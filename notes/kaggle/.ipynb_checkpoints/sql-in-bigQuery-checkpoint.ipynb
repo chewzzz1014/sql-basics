{
 "cells": [
  {
   "cell_type": "markdown",
   "id": "36a1c7af",
   "metadata": {},
   "source": [
    "Googl Big Query API\n",
    "1. Create Google Cloud credential for account\n",
    "2. Put in api_key.JSON\n",
    "\n",
    "- Client: Object that holds projects and connection to BigQuery Project\n",
    "- Project: Collection of datasets (in this notebook, big-query-data)\n",
    "- Dataset: Collection of table (in this notebook, hacher_news)\n",
    "- Tables: in this notebook, *comments, full, full_201510, stories*\n",
    "\n"
   ]
  },
  {
   "cell_type": "markdown",
   "id": "bbfcf73e",
   "metadata": {},
   "source": [
    "## Setting Up"
   ]
  },
  {
   "cell_type": "code",
   "execution_count": 1,
   "id": "396de480",
   "metadata": {},
   "outputs": [
    {
     "name": "stdout",
     "output_type": "stream",
     "text": [
      "Requirement already satisfied: google-cloud-bigquery in c:\\users\\user\\appdata\\local\\programs\\python\\python310\\lib\\site-packages (3.3.2)\n",
      "Requirement already satisfied: google-cloud-bigquery-storage<3.0.0dev,>=2.0.0 in c:\\users\\user\\appdata\\local\\programs\\python\\python310\\lib\\site-packages (from google-cloud-bigquery) (2.14.2)\n",
      "Requirement already satisfied: python-dateutil<3.0dev,>=2.7.2 in c:\\users\\user\\appdata\\local\\programs\\python\\python310\\lib\\site-packages (from google-cloud-bigquery) (2.8.2)\n",
      "Requirement already satisfied: google-resumable-media<3.0dev,>=0.6.0 in c:\\users\\user\\appdata\\local\\programs\\python\\python310\\lib\\site-packages (from google-cloud-bigquery) (2.3.3)\n",
      "Requirement already satisfied: google-api-core[grpc]!=2.0.*,!=2.1.*,!=2.2.*,!=2.3.0,<3.0.0dev,>=1.31.5 in c:\\users\\user\\appdata\\local\\programs\\python\\python310\\lib\\site-packages (from google-cloud-bigquery) (2.8.2)\n",
      "Requirement already satisfied: google-cloud-core<3.0.0dev,>=1.4.1 in c:\\users\\user\\appdata\\local\\programs\\python\\python310\\lib\\site-packages (from google-cloud-bigquery) (2.3.2)\n",
      "Requirement already satisfied: proto-plus<2.0.0dev,>=1.22.0 in c:\\users\\user\\appdata\\local\\programs\\python\\python310\\lib\\site-packages (from google-cloud-bigquery) (1.22.0)\n",
      "Requirement already satisfied: requests<3.0.0dev,>=2.18.0 in c:\\users\\user\\appdata\\local\\programs\\python\\python310\\lib\\site-packages (from google-cloud-bigquery) (2.28.1)\n",
      "Requirement already satisfied: packaging<22.0.0dev,>=14.3 in c:\\users\\user\\appdata\\local\\programs\\python\\python310\\lib\\site-packages (from google-cloud-bigquery) (21.3)\n",
      "Requirement already satisfied: grpcio<2.0dev,>=1.47.0 in c:\\users\\user\\appdata\\local\\programs\\python\\python310\\lib\\site-packages (from google-cloud-bigquery) (1.47.0)\n",
      "Requirement already satisfied: protobuf<5.0.0dev,>=3.19.0 in c:\\users\\user\\appdata\\local\\programs\\python\\python310\\lib\\site-packages (from google-cloud-bigquery) (3.19.4)\n",
      "Requirement already satisfied: pyarrow<10.0dev,>=3.0.0 in c:\\users\\user\\appdata\\local\\programs\\python\\python310\\lib\\site-packages (from google-cloud-bigquery) (9.0.0)\n",
      "Requirement already satisfied: googleapis-common-protos<2.0dev,>=1.56.2 in c:\\users\\user\\appdata\\local\\programs\\python\\python310\\lib\\site-packages (from google-api-core[grpc]!=2.0.*,!=2.1.*,!=2.2.*,!=2.3.0,<3.0.0dev,>=1.31.5->google-cloud-bigquery) (1.56.4)\n",
      "Requirement already satisfied: google-auth<3.0dev,>=1.25.0 in c:\\users\\user\\appdata\\local\\programs\\python\\python310\\lib\\site-packages (from google-api-core[grpc]!=2.0.*,!=2.1.*,!=2.2.*,!=2.3.0,<3.0.0dev,>=1.31.5->google-cloud-bigquery) (2.11.0)\n",
      "Requirement already satisfied: grpcio-status<2.0dev,>=1.33.2 in c:\\users\\user\\appdata\\local\\programs\\python\\python310\\lib\\site-packages (from google-api-core[grpc]!=2.0.*,!=2.1.*,!=2.2.*,!=2.3.0,<3.0.0dev,>=1.31.5->google-cloud-bigquery) (1.47.0)\n",
      "Requirement already satisfied: google-crc32c<2.0dev,>=1.0 in c:\\users\\user\\appdata\\local\\programs\\python\\python310\\lib\\site-packages (from google-resumable-media<3.0dev,>=0.6.0->google-cloud-bigquery) (1.3.0)\n",
      "Requirement already satisfied: six>=1.5.2 in c:\\users\\user\\appdata\\local\\programs\\python\\python310\\lib\\site-packages (from grpcio<2.0dev,>=1.47.0->google-cloud-bigquery) (1.16.0)\n",
      "Requirement already satisfied: pyparsing!=3.0.5,>=2.0.2 in c:\\users\\user\\appdata\\local\\programs\\python\\python310\\lib\\site-packages (from packaging<22.0.0dev,>=14.3->google-cloud-bigquery) (3.0.8)\n",
      "Requirement already satisfied: numpy>=1.16.6 in c:\\users\\user\\appdata\\local\\programs\\python\\python310\\lib\\site-packages (from pyarrow<10.0dev,>=3.0.0->google-cloud-bigquery) (1.22.4)\n",
      "Requirement already satisfied: charset-normalizer<3,>=2 in c:\\users\\user\\appdata\\local\\programs\\python\\python310\\lib\\site-packages (from requests<3.0.0dev,>=2.18.0->google-cloud-bigquery) (2.1.1)\n",
      "Requirement already satisfied: urllib3<1.27,>=1.21.1 in c:\\users\\user\\appdata\\local\\programs\\python\\python310\\lib\\site-packages (from requests<3.0.0dev,>=2.18.0->google-cloud-bigquery) (1.26.12)\n",
      "Requirement already satisfied: certifi>=2017.4.17 in c:\\users\\user\\appdata\\local\\programs\\python\\python310\\lib\\site-packages (from requests<3.0.0dev,>=2.18.0->google-cloud-bigquery) (2022.6.15)\n",
      "Requirement already satisfied: idna<4,>=2.5 in c:\\users\\user\\appdata\\local\\programs\\python\\python310\\lib\\site-packages (from requests<3.0.0dev,>=2.18.0->google-cloud-bigquery) (3.3)\n",
      "Requirement already satisfied: pyasn1-modules>=0.2.1 in c:\\users\\user\\appdata\\local\\programs\\python\\python310\\lib\\site-packages (from google-auth<3.0dev,>=1.25.0->google-api-core[grpc]!=2.0.*,!=2.1.*,!=2.2.*,!=2.3.0,<3.0.0dev,>=1.31.5->google-cloud-bigquery) (0.2.8)\n",
      "Requirement already satisfied: cachetools<6.0,>=2.0.0 in c:\\users\\user\\appdata\\local\\programs\\python\\python310\\lib\\site-packages (from google-auth<3.0dev,>=1.25.0->google-api-core[grpc]!=2.0.*,!=2.1.*,!=2.2.*,!=2.3.0,<3.0.0dev,>=1.31.5->google-cloud-bigquery) (5.2.0)\n",
      "Requirement already satisfied: rsa<5,>=3.1.4 in c:\\users\\user\\appdata\\local\\programs\\python\\python310\\lib\\site-packages (from google-auth<3.0dev,>=1.25.0->google-api-core[grpc]!=2.0.*,!=2.1.*,!=2.2.*,!=2.3.0,<3.0.0dev,>=1.31.5->google-cloud-bigquery) (4.9)\n",
      "Requirement already satisfied: pyasn1<0.5.0,>=0.4.6 in c:\\users\\user\\appdata\\local\\programs\\python\\python310\\lib\\site-packages (from pyasn1-modules>=0.2.1->google-auth<3.0dev,>=1.25.0->google-api-core[grpc]!=2.0.*,!=2.1.*,!=2.2.*,!=2.3.0,<3.0.0dev,>=1.31.5->google-cloud-bigquery) (0.4.8)\n"
     ]
    }
   ],
   "source": [
    "!pip install google-cloud-bigquery"
   ]
  },
  {
   "cell_type": "code",
   "execution_count": 3,
   "id": "616a3b61",
   "metadata": {},
   "outputs": [
    {
     "data": {
      "text/plain": [
       "['.ipynb_checkpoints',\n",
       " '.jovianrc',\n",
       " 'api_key.json',\n",
       " 'README.md',\n",
       " 'sql-in-bigQuery.ipynb']"
      ]
     },
     "execution_count": 3,
     "metadata": {},
     "output_type": "execute_result"
    }
   ],
   "source": [
    "import os\n",
    "os.listdir(\"./\")"
   ]
  },
  {
   "cell_type": "code",
   "execution_count": 4,
   "id": "b8a8d8ee",
   "metadata": {},
   "outputs": [],
   "source": [
    "from google.cloud import bigquery"
   ]
  },
  {
   "cell_type": "code",
   "execution_count": 5,
   "id": "76f11615",
   "metadata": {},
   "outputs": [],
   "source": [
    "import os\n",
    "\n",
    "os.environ[\"GOOGLE_APPLICATION_CREDENTIALS\"]=\"./api_key.json\""
   ]
  },
  {
   "cell_type": "code",
   "execution_count": 6,
   "id": "f233d8f7",
   "metadata": {},
   "outputs": [],
   "source": [
    "# create Client object to retrieve information from BigQuery datasets\n",
    "client = bigquery.Client()"
   ]
  },
  {
   "cell_type": "markdown",
   "id": "89b39689",
   "metadata": {},
   "source": [
    "## Fetch Dataset"
   ]
  },
  {
   "cell_type": "code",
   "execution_count": 7,
   "id": "dcebc815",
   "metadata": {},
   "outputs": [],
   "source": [
    "# build a reference to the dataset\n",
    "dataset_ref = client.dataset(\"hacker_news\", project=\"bigquery-public-data\")\n",
    "\n",
    "# API Request - fetch the dataset\n",
    "dataset = client.get_dataset(dataset_ref)"
   ]
  },
  {
   "cell_type": "code",
   "execution_count": 8,
   "id": "69685388",
   "metadata": {},
   "outputs": [
    {
     "name": "stdout",
     "output_type": "stream",
     "text": [
      "comments\n",
      "full\n",
      "full_201510\n",
      "stories\n"
     ]
    }
   ],
   "source": [
    "# list all tables in the dataset\n",
    "tables = list(client.list_tables(dataset))\n",
    "\n",
    "for table in tables:\n",
    "    print(table.table_id)"
   ]
  },
  {
   "cell_type": "markdown",
   "id": "200be7ff",
   "metadata": {},
   "source": [
    "## Fetch Table"
   ]
  },
  {
   "cell_type": "code",
   "execution_count": 9,
   "id": "ac29ee0b",
   "metadata": {},
   "outputs": [],
   "source": [
    "# reference to the \"full\" table\n",
    "table_ref = dataset_ref.table(\"full\")\n",
    "\n",
    "# API Request that fetchs the table\n",
    "table = client.get_table(table_ref)"
   ]
  },
  {
   "cell_type": "markdown",
   "id": "52212532",
   "metadata": {},
   "source": [
    "## Table Schema\n",
    "- Structure of table\n",
    "- Contains information about:\n",
    "  - name of columns\n",
    "  - field type of columns\n",
    "  - mode of column (NULLABLE means a column  allows NULL values. It's by default)\n",
    "  - description"
   ]
  },
  {
   "cell_type": "code",
   "execution_count": 10,
   "id": "c338d05a",
   "metadata": {},
   "outputs": [
    {
     "data": {
      "text/plain": [
       "[SchemaField('title', 'STRING', 'NULLABLE', 'Story title', (), None),\n",
       " SchemaField('url', 'STRING', 'NULLABLE', 'Story url', (), None),\n",
       " SchemaField('text', 'STRING', 'NULLABLE', 'Story or comment text', (), None),\n",
       " SchemaField('dead', 'BOOLEAN', 'NULLABLE', 'Is dead?', (), None),\n",
       " SchemaField('by', 'STRING', 'NULLABLE', \"The username of the item's author.\", (), None),\n",
       " SchemaField('score', 'INTEGER', 'NULLABLE', 'Story score', (), None),\n",
       " SchemaField('time', 'INTEGER', 'NULLABLE', 'Unix time', (), None),\n",
       " SchemaField('timestamp', 'TIMESTAMP', 'NULLABLE', 'Timestamp for the unix time', (), None),\n",
       " SchemaField('type', 'STRING', 'NULLABLE', 'Type of details (comment, comment_ranking, poll, story, job, pollopt)', (), None),\n",
       " SchemaField('id', 'INTEGER', 'NULLABLE', \"The item's unique id.\", (), None),\n",
       " SchemaField('parent', 'INTEGER', 'NULLABLE', 'Parent comment ID', (), None),\n",
       " SchemaField('descendants', 'INTEGER', 'NULLABLE', 'Number of story or poll descendants', (), None),\n",
       " SchemaField('ranking', 'INTEGER', 'NULLABLE', 'Comment ranking', (), None),\n",
       " SchemaField('deleted', 'BOOLEAN', 'NULLABLE', 'Is deleted?', (), None)]"
      ]
     },
     "execution_count": 10,
     "metadata": {},
     "output_type": "execute_result"
    }
   ],
   "source": [
    "table.schema"
   ]
  },
  {
   "cell_type": "markdown",
   "id": "19bb3c39",
   "metadata": {},
   "source": [
    "## Check Rows in Table"
   ]
  },
  {
   "cell_type": "code",
   "execution_count": 11,
   "id": "1299a4b9",
   "metadata": {},
   "outputs": [
    {
     "name": "stdout",
     "output_type": "stream",
     "text": [
      "Requirement already satisfied: db-dtypes in c:\\users\\user\\appdata\\local\\programs\\python\\python310\\lib\\site-packages (1.0.3)\n",
      "Requirement already satisfied: pyarrow<10.0dev,>=3.0.0 in c:\\users\\user\\appdata\\local\\programs\\python\\python310\\lib\\site-packages (from db-dtypes) (9.0.0)\n",
      "Requirement already satisfied: numpy<2.0dev,>=1.16.6 in c:\\users\\user\\appdata\\local\\programs\\python\\python310\\lib\\site-packages (from db-dtypes) (1.22.4)\n",
      "Requirement already satisfied: pandas<2.0dev,>=0.24.2 in c:\\users\\user\\appdata\\local\\programs\\python\\python310\\lib\\site-packages (from db-dtypes) (1.4.2)\n",
      "Requirement already satisfied: packaging>=17.0 in c:\\users\\user\\appdata\\local\\programs\\python\\python310\\lib\\site-packages (from db-dtypes) (21.3)\n",
      "Requirement already satisfied: pyparsing!=3.0.5,>=2.0.2 in c:\\users\\user\\appdata\\local\\programs\\python\\python310\\lib\\site-packages (from packaging>=17.0->db-dtypes) (3.0.8)\n",
      "Requirement already satisfied: pytz>=2020.1 in c:\\users\\user\\appdata\\local\\programs\\python\\python310\\lib\\site-packages (from pandas<2.0dev,>=0.24.2->db-dtypes) (2022.1)\n",
      "Requirement already satisfied: python-dateutil>=2.8.1 in c:\\users\\user\\appdata\\local\\programs\\python\\python310\\lib\\site-packages (from pandas<2.0dev,>=0.24.2->db-dtypes) (2.8.2)\n",
      "Requirement already satisfied: six>=1.5 in c:\\users\\user\\appdata\\local\\programs\\python\\python310\\lib\\site-packages (from python-dateutil>=2.8.1->pandas<2.0dev,>=0.24.2->db-dtypes) (1.16.0)\n"
     ]
    }
   ],
   "source": [
    "!pip install db-dtypes"
   ]
  },
  {
   "cell_type": "code",
   "execution_count": 12,
   "id": "4f320470",
   "metadata": {},
   "outputs": [
    {
     "data": {
      "text/html": [
       "<div>\n",
       "<style scoped>\n",
       "    .dataframe tbody tr th:only-of-type {\n",
       "        vertical-align: middle;\n",
       "    }\n",
       "\n",
       "    .dataframe tbody tr th {\n",
       "        vertical-align: top;\n",
       "    }\n",
       "\n",
       "    .dataframe thead th {\n",
       "        text-align: right;\n",
       "    }\n",
       "</style>\n",
       "<table border=\"1\" class=\"dataframe\">\n",
       "  <thead>\n",
       "    <tr style=\"text-align: right;\">\n",
       "      <th></th>\n",
       "      <th>title</th>\n",
       "      <th>url</th>\n",
       "      <th>text</th>\n",
       "      <th>dead</th>\n",
       "      <th>by</th>\n",
       "      <th>score</th>\n",
       "      <th>time</th>\n",
       "      <th>timestamp</th>\n",
       "      <th>type</th>\n",
       "      <th>id</th>\n",
       "      <th>parent</th>\n",
       "      <th>descendants</th>\n",
       "      <th>ranking</th>\n",
       "      <th>deleted</th>\n",
       "    </tr>\n",
       "  </thead>\n",
       "  <tbody>\n",
       "    <tr>\n",
       "      <th>0</th>\n",
       "      <td>None</td>\n",
       "      <td>None</td>\n",
       "      <td>I assume AdNauseam&amp;#x27;s random clicking is v...</td>\n",
       "      <td>&lt;NA&gt;</td>\n",
       "      <td>tyingq</td>\n",
       "      <td>&lt;NA&gt;</td>\n",
       "      <td>1483630160</td>\n",
       "      <td>2017-01-05 15:29:20+00:00</td>\n",
       "      <td>comment</td>\n",
       "      <td>13327839</td>\n",
       "      <td>13327606</td>\n",
       "      <td>&lt;NA&gt;</td>\n",
       "      <td>&lt;NA&gt;</td>\n",
       "      <td>&lt;NA&gt;</td>\n",
       "    </tr>\n",
       "    <tr>\n",
       "      <th>1</th>\n",
       "      <td>None</td>\n",
       "      <td>None</td>\n",
       "      <td>The size of your URLs will be an issue for pag...</td>\n",
       "      <td>&lt;NA&gt;</td>\n",
       "      <td>brlewis</td>\n",
       "      <td>&lt;NA&gt;</td>\n",
       "      <td>1485528946</td>\n",
       "      <td>2017-01-27 14:55:46+00:00</td>\n",
       "      <td>comment</td>\n",
       "      <td>13500114</td>\n",
       "      <td>13496660</td>\n",
       "      <td>&lt;NA&gt;</td>\n",
       "      <td>&lt;NA&gt;</td>\n",
       "      <td>&lt;NA&gt;</td>\n",
       "    </tr>\n",
       "    <tr>\n",
       "      <th>2</th>\n",
       "      <td>None</td>\n",
       "      <td>None</td>\n",
       "      <td>sounds like a great and powerful service to me</td>\n",
       "      <td>&lt;NA&gt;</td>\n",
       "      <td>daniel-e</td>\n",
       "      <td>&lt;NA&gt;</td>\n",
       "      <td>1426691927</td>\n",
       "      <td>2015-03-18 15:18:47+00:00</td>\n",
       "      <td>comment</td>\n",
       "      <td>9226064</td>\n",
       "      <td>9225959</td>\n",
       "      <td>&lt;NA&gt;</td>\n",
       "      <td>&lt;NA&gt;</td>\n",
       "      <td>&lt;NA&gt;</td>\n",
       "    </tr>\n",
       "    <tr>\n",
       "      <th>3</th>\n",
       "      <td>None</td>\n",
       "      <td>None</td>\n",
       "      <td>The one thing that really annoyed me is that a...</td>\n",
       "      <td>&lt;NA&gt;</td>\n",
       "      <td>rtpg</td>\n",
       "      <td>&lt;NA&gt;</td>\n",
       "      <td>1368932762</td>\n",
       "      <td>2013-05-19 03:06:02+00:00</td>\n",
       "      <td>comment</td>\n",
       "      <td>5731604</td>\n",
       "      <td>5724083</td>\n",
       "      <td>&lt;NA&gt;</td>\n",
       "      <td>&lt;NA&gt;</td>\n",
       "      <td>&lt;NA&gt;</td>\n",
       "    </tr>\n",
       "    <tr>\n",
       "      <th>4</th>\n",
       "      <td>None</td>\n",
       "      <td>None</td>\n",
       "      <td>Yes, NULL is another exception that I forgot. ...</td>\n",
       "      <td>&lt;NA&gt;</td>\n",
       "      <td>0xcde4c3db</td>\n",
       "      <td>&lt;NA&gt;</td>\n",
       "      <td>1483630093</td>\n",
       "      <td>2017-01-05 15:28:13+00:00</td>\n",
       "      <td>comment</td>\n",
       "      <td>13327831</td>\n",
       "      <td>13327535</td>\n",
       "      <td>&lt;NA&gt;</td>\n",
       "      <td>&lt;NA&gt;</td>\n",
       "      <td>&lt;NA&gt;</td>\n",
       "    </tr>\n",
       "  </tbody>\n",
       "</table>\n",
       "</div>"
      ],
      "text/plain": [
       "  title   url                                               text  dead  \\\n",
       "0  None  None  I assume AdNauseam&#x27;s random clicking is v...  <NA>   \n",
       "1  None  None  The size of your URLs will be an issue for pag...  <NA>   \n",
       "2  None  None     sounds like a great and powerful service to me  <NA>   \n",
       "3  None  None  The one thing that really annoyed me is that a...  <NA>   \n",
       "4  None  None  Yes, NULL is another exception that I forgot. ...  <NA>   \n",
       "\n",
       "           by  score        time                 timestamp     type        id  \\\n",
       "0      tyingq   <NA>  1483630160 2017-01-05 15:29:20+00:00  comment  13327839   \n",
       "1     brlewis   <NA>  1485528946 2017-01-27 14:55:46+00:00  comment  13500114   \n",
       "2    daniel-e   <NA>  1426691927 2015-03-18 15:18:47+00:00  comment   9226064   \n",
       "3        rtpg   <NA>  1368932762 2013-05-19 03:06:02+00:00  comment   5731604   \n",
       "4  0xcde4c3db   <NA>  1483630093 2017-01-05 15:28:13+00:00  comment  13327831   \n",
       "\n",
       "     parent  descendants  ranking  deleted  \n",
       "0  13327606         <NA>     <NA>     <NA>  \n",
       "1  13496660         <NA>     <NA>     <NA>  \n",
       "2   9225959         <NA>     <NA>     <NA>  \n",
       "3   5724083         <NA>     <NA>     <NA>  \n",
       "4  13327535         <NA>     <NA>     <NA>  "
      ]
     },
     "execution_count": 12,
     "metadata": {},
     "output_type": "execute_result"
    }
   ],
   "source": [
    "# return a BigQuery RowIterator object\n",
    "# convert to pandas DataFrame\n",
    "client.list_rows(table, max_results=5).to_dataframe()"
   ]
  },
  {
   "cell_type": "code",
   "execution_count": 13,
   "id": "20a0399e",
   "metadata": {},
   "outputs": [
    {
     "data": {
      "text/html": [
       "<div>\n",
       "<style scoped>\n",
       "    .dataframe tbody tr th:only-of-type {\n",
       "        vertical-align: middle;\n",
       "    }\n",
       "\n",
       "    .dataframe tbody tr th {\n",
       "        vertical-align: top;\n",
       "    }\n",
       "\n",
       "    .dataframe thead th {\n",
       "        text-align: right;\n",
       "    }\n",
       "</style>\n",
       "<table border=\"1\" class=\"dataframe\">\n",
       "  <thead>\n",
       "    <tr style=\"text-align: right;\">\n",
       "      <th></th>\n",
       "      <th>title</th>\n",
       "    </tr>\n",
       "  </thead>\n",
       "  <tbody>\n",
       "    <tr>\n",
       "      <th>0</th>\n",
       "      <td>None</td>\n",
       "    </tr>\n",
       "    <tr>\n",
       "      <th>1</th>\n",
       "      <td>None</td>\n",
       "    </tr>\n",
       "    <tr>\n",
       "      <th>2</th>\n",
       "      <td>None</td>\n",
       "    </tr>\n",
       "    <tr>\n",
       "      <th>3</th>\n",
       "      <td>None</td>\n",
       "    </tr>\n",
       "    <tr>\n",
       "      <th>4</th>\n",
       "      <td>None</td>\n",
       "    </tr>\n",
       "  </tbody>\n",
       "</table>\n",
       "</div>"
      ],
      "text/plain": [
       "  title\n",
       "0  None\n",
       "1  None\n",
       "2  None\n",
       "3  None\n",
       "4  None"
      ]
     },
     "execution_count": 13,
     "metadata": {},
     "output_type": "execute_result"
    }
   ],
   "source": [
    "# Preview the first five entries in the \"by\" column of the \"full\" table\n",
    "\n",
    "client.list_rows(table, selected_fields=table.schema[:1], max_results=5).to_dataframe()"
   ]
  }
 ],
 "metadata": {
  "kernelspec": {
   "display_name": "Python 3 (ipykernel)",
   "language": "python",
   "name": "python3"
  },
  "language_info": {
   "codemirror_mode": {
    "name": "ipython",
    "version": 3
   },
   "file_extension": ".py",
   "mimetype": "text/x-python",
   "name": "python",
   "nbconvert_exporter": "python",
   "pygments_lexer": "ipython3",
   "version": "3.10.0"
  }
 },
 "nbformat": 4,
 "nbformat_minor": 5
}
